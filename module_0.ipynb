{
  "nbformat": 4,
  "nbformat_minor": 0,
  "metadata": {
    "colab": {
      "name": "module_0.ipynb",
      "provenance": [],
      "collapsed_sections": []
    },
    "kernelspec": {
      "name": "python3",
      "display_name": "Python 3"
    }
  },
  "cells": [
    {
      "cell_type": "code",
      "metadata": {
        "id": "9zwgK7FuWaC6",
        "colab_type": "code",
        "colab": {
          "base_uri": "https://localhost:8080/",
          "height": 50
        },
        "outputId": "15ecbca4-d66d-42ae-d34b-af5698c1bf53"
      },
      "source": [
        "def game_core_v1(number):\n",
        "    '''Сначала устанавливаем любое random число, а потом уменьшаем\n",
        "        границы интервала для быстрого поиска.\n",
        "       Функция принимает загаданное число и возвращает число попыток'''\n",
        "    left_border = 1\n",
        "    rigth_border = 101\n",
        "    predict = np.random.randint(left_border, rigth_border)\n",
        "    count = 1\n",
        "   \n",
        "    while predict != number:\n",
        "        if number > predict: \n",
        "            left_border = predict\n",
        "            predict = np.random.randint(left_border, rigth_border)\n",
        "            count += 1\n",
        "        elif number < predict:\n",
        "            rigth_border = predict\n",
        "            predict = np.random.randint(left_border, rigth_border)\n",
        "            count += 1\n",
        "     \n",
        "    return(count) # выход из цикла, если угадали\n",
        "        \n",
        "\n",
        "def score_game(game_core):\n",
        "    '''Запускаем игру 1000 раз, чтобы узнать, как быстро игра угадывает число'''\n",
        "    count_ls = []\n",
        "    np.random.seed(1)  # фиксируем RANDOM SEED, чтобы ваш эксперимент был воспроизводим!\n",
        "    random_array = np.random.randint(1,101, size=(1000))\n",
        "\n",
        "    for number in random_array:\n",
        "        count_ls.append(game_core(number))\n",
        "        \n",
        "    score = int(np.mean(count_ls))\n",
        "    \n",
        "    print(f\"Ваш алгоритм угадывает число в среднем за {score} попыток\")\n",
        "    return(score)\n",
        "\n",
        "\n",
        "import numpy as np\n",
        "score_game(game_core_v1)"
      ],
      "execution_count": 3,
      "outputs": [
        {
          "output_type": "stream",
          "text": [
            "Ваш алгоритм угадывает число в среднем за 8 попыток\n"
          ],
          "name": "stdout"
        },
        {
          "output_type": "execute_result",
          "data": {
            "text/plain": [
              "8"
            ]
          },
          "metadata": {
            "tags": []
          },
          "execution_count": 3
        }
      ]
    }
  ]
}